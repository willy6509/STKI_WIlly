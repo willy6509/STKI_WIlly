{
 "cells": [
  {
   "cell_type": "markdown",
   "metadata": {
    "id": "4KuHgGKS4Oj6"
   },
   "source": [
    "# Basic Python"
   ]
  },
  {
   "cell_type": "markdown",
   "metadata": {
    "id": "495ZhgAF4Xs5"
   },
   "source": [
    "## Print\n",
    "#### 1. Some of the methods offered by strings are:\n",
    "\n",
    "- `capitalize()` – changes all string letters to capitals;\n",
    "- `center()` – centers the string inside the field of a known length;\n",
    "- `count()` – counts the occurrences of a given character;\n",
    "- `join()` – joins all items of a tuple/list into one string;\n",
    "- `lower()` – converts all the string's letters into lower-case letters;\n",
    "- `lstrip()` – removes the white characters from the beginning of the string;\n",
    "- `replace()` – replaces a given substring with another;\n",
    "- `rfind()` – finds a substring starting from the end of the string;\n",
    "- `rstrip()` – removes the trailing white spaces from the end of the string;\n",
    "- `split()` – splits the string into a substring using a given delimiter;\n",
    "- `strip()` – removes the leading and trailing white spaces;\n",
    "- `swapcase()` – swaps the letters' cases (lower to upper and vice versa)\n",
    "- `title()` – makes the first letter in each word upper-case;\n",
    "- `upper()` – converts all the string's letter into upper-case letters.\n",
    "\n",
    "#### 2. String content can be determined using the following methods (all of them return Boolean values):\n",
    "\n",
    "- `endswith()` – does the string end with a given substring?\n",
    "- `isalnum()` – does the string consist only of letters and digits?\n",
    "- `isalpha()` – does the string consist only of letters?\n",
    "- `islower()` – does the string consists only of lower-case letters?\n",
    "- `isspace()` – does the string consists only of white spaces?\n",
    "- `isupper()` – does the string consists only of upper-case letters?\n",
    "- `startswith()` – does the string begin with a given substring?"
   ]
  },
  {
   "cell_type": "markdown",
   "metadata": {},
   "source": [
    "print() berarti line kosong"
   ]
  },
  {
   "cell_type": "code",
   "execution_count": 1,
   "metadata": {},
   "outputs": [
    {
     "name": "stdout",
     "output_type": "stream",
     "text": [
      "\n"
     ]
    }
   ],
   "source": [
    "print()"
   ]
  },
  {
   "cell_type": "markdown",
   "metadata": {},
   "source": [
    "tanda '' atau \"\" digunakan untuk variabel string"
   ]
  },
  {
   "cell_type": "code",
   "execution_count": 2,
   "metadata": {},
   "outputs": [
    {
     "name": "stdout",
     "output_type": "stream",
     "text": [
      "Hello World\n",
      "Saya Willy\n",
      "\n"
     ]
    }
   ],
   "source": [
    "print(\"Hello World\")\n",
    "print('Saya Willy\\n')"
   ]
  },
  {
   "cell_type": "markdown",
   "metadata": {},
   "source": [
    "untuk membuat duplikasi bisa menggunakan pola *"
   ]
  },
  {
   "cell_type": "code",
   "execution_count": 3,
   "metadata": {
    "colab": {
     "base_uri": "https://localhost:8080/"
    },
    "executionInfo": {
     "elapsed": 14,
     "status": "ok",
     "timestamp": 1759912646243,
     "user": {
      "displayName": "Wildanu Rafif",
      "userId": "11454752126410124182"
     },
     "user_tz": -420
    },
    "id": "Ag8Al9DJ4kbS",
    "outputId": "9bfbd6d1-c7dd-40e9-e136-52be0d19c937"
   },
   "outputs": [
    {
     "name": "stdout",
     "output_type": "stream",
     "text": [
      "WillyWilly\n",
      "\n",
      "    *        *    \n",
      "   * *      * *   \n",
      "  *   *    *   *  \n",
      " *     *  *     * \n",
      "***   ******   ***\n",
      "  *   *    *   *  \n",
      "  *   *    *   *  \n",
      "  *****    *****  \n"
     ]
    }
   ],
   "source": [
    "print('Willy'*2)\n",
    "print()\n",
    "print(\"    *    \"*2)\n",
    "print(\"   * *   \"*2)\n",
    "print(\"  *   *  \"*2)\n",
    "print(\" *     * \"*2)\n",
    "print(\"***   ***\"*2)\n",
    "print(\"  *   *  \"*2)\n",
    "print(\"  *   *  \"*2)\n",
    "print(\"  *****  \"*2)"
   ]
  },
  {
   "cell_type": "markdown",
   "metadata": {},
   "source": [
    "tidak boleh ada 2 perintahaa dalam 1 baris"
   ]
  },
  {
   "cell_type": "code",
   "execution_count": null,
   "metadata": {
    "colab": {
     "base_uri": "https://localhost:8080/",
     "height": 106
    },
    "executionInfo": {
     "elapsed": 59,
     "status": "error",
     "timestamp": 1759912535531,
     "user": {
      "displayName": "Wildanu Rafif",
      "userId": "11454752126410124182"
     },
     "user_tz": -420
    },
    "id": "eGYC79a45eCC",
    "outputId": "f7177186-8d95-46bb-ad0f-8ff5e36fdfe5"
   },
   "outputs": [
    {
     "ename": "SyntaxError",
     "evalue": "invalid syntax (ipython-input-3311701867.py, line 2)",
     "output_type": "error",
     "traceback": [
      "\u001b[0;36m  File \u001b[0;32m\"/tmp/ipython-input-3311701867.py\"\u001b[0;36m, line \u001b[0;32m2\u001b[0m\n\u001b[0;31m    print(\"Saya Willy\") print('Saya Willo')\u001b[0m\n\u001b[0m                        ^\u001b[0m\n\u001b[0;31mSyntaxError\u001b[0m\u001b[0;31m:\u001b[0m invalid syntax\n"
     ]
    }
   ],
   "source": [
    "print(\"Saya Willy\") print('Saya Willo')"
   ]
  },
  {
   "cell_type": "markdown",
   "metadata": {
    "id": "YMoAoUS_5NS4"
   },
   "source": [
    "## formatting dengan special karakter"
   ]
  },
  {
   "cell_type": "markdown",
   "metadata": {},
   "source": [
    "'\\t' = untuk tab\n",
    "\n",
    "'\\n' = untuk enter\n",
    "\n",
    "`\\'` atau `\\\"` = untuk menyisipkan karakter"
   ]
  },
  {
   "cell_type": "code",
   "execution_count": 5,
   "metadata": {
    "colab": {
     "base_uri": "https://localhost:8080/"
    },
    "executionInfo": {
     "elapsed": 23,
     "status": "ok",
     "timestamp": 1759911938132,
     "user": {
      "displayName": "Wildanu Rafif",
      "userId": "11454752126410124182"
     },
     "user_tz": -420
    },
    "id": "B-mbi3PW4xC8",
    "outputId": "4d23a49e-a579-4c32-ce8a-1f2ae8262882"
   },
   "outputs": [
    {
     "name": "stdout",
     "output_type": "stream",
     "text": [
      "saya belajar\t bahasa \"python\"\n",
      "saya belajar\n",
      " bahasa \"python\"\n",
      "\n",
      "nama saya 'Willy'\n"
     ]
    }
   ],
   "source": [
    "print('saya belajar\\t bahasa \"python\"')\n",
    "print('saya belajar\\n bahasa \"python\"')\n",
    "print()\n",
    "print('nama saya \\'Willy\\'')"
   ]
  },
  {
   "cell_type": "markdown",
   "metadata": {},
   "source": [
    "end = mengubah karakter akhir dari baris pertama menjadi spasi"
   ]
  },
  {
   "cell_type": "code",
   "execution_count": 6,
   "metadata": {},
   "outputs": [
    {
     "name": "stdout",
     "output_type": "stream",
     "text": [
      "saya belajar bahasa python\n"
     ]
    }
   ],
   "source": [
    "print('saya belajar', end=' ')\n",
    "print('bahasa python')"
   ]
  },
  {
   "cell_type": "markdown",
   "metadata": {},
   "source": [
    "sep = membuat setiap item dipisahkan oleh tanda yang mengikutinya"
   ]
  },
  {
   "cell_type": "code",
   "execution_count": 7,
   "metadata": {
    "colab": {
     "base_uri": "https://localhost:8080/"
    },
    "executionInfo": {
     "elapsed": 8,
     "status": "ok",
     "timestamp": 1759912494871,
     "user": {
      "displayName": "Wildanu Rafif",
      "userId": "11454752126410124182"
     },
     "user_tz": -420
    },
    "id": "_SA2ovfF7u-d",
    "outputId": "791a7a93-8f12-4664-bef2-f80922bd8e3a"
   },
   "outputs": [
    {
     "name": "stdout",
     "output_type": "stream",
     "text": [
      "tanpa sep:\n",
      "satu dua tiga\n",
      "\n",
      "dengan sep:\n",
      "satu, dua, tiga\n",
      "satu - dua - tiga\n",
      "satu / dua / tiga\n"
     ]
    }
   ],
   "source": [
    "print('tanpa sep:')\n",
    "print('satu', 'dua', 'tiga\\n')\n",
    "print('dengan sep:')\n",
    "print('satu', 'dua', 'tiga', sep=\", \")\n",
    "print('satu', 'dua', 'tiga', sep=\" - \")\n",
    "print('satu', 'dua', 'tiga', sep=\" / \")"
   ]
  },
  {
   "cell_type": "markdown",
   "metadata": {
    "id": "ivJfahYn-E8w"
   },
   "source": [
    "## Literal\n",
    "notasi untuk mensimbolkan nilai, dapat berupa string, boolean maupun angka (integer dan float)"
   ]
  },
  {
   "cell_type": "code",
   "execution_count": 33,
   "metadata": {
    "colab": {
     "base_uri": "https://localhost:8080/"
    },
    "executionInfo": {
     "elapsed": 20,
     "status": "ok",
     "timestamp": 1759913280335,
     "user": {
      "displayName": "Wildanu Rafif",
      "userId": "11454752126410124182"
     },
     "user_tz": -420
    },
    "id": "JlqUNOj7-VXn",
    "outputId": "7d94eeff-acc4-47ab-fcdc-6b7921e767d8"
   },
   "outputs": [
    {
     "name": "stdout",
     "output_type": "stream",
     "text": [
      "\"2\" bertipe:  <class 'str'>\n",
      "2 bertipe:  <class 'int'>\n",
      ".2 bertipe:  <class 'float'>\n",
      "\n",
      "python ver 3 membolehkan penulisan digit int dengan uderscore\n",
      "2000000\n",
      "\n",
      "float dipisahkan dengan titik bukan koma\n"
     ]
    }
   ],
   "source": [
    "print('\"2\" bertipe: ', type('2'))\n",
    "print('2 bertipe: ', type(2))\n",
    "print('.2 bertipe: ', type(.2))\n",
    "\n",
    "print('\\npython ver 3 membolehkan penulisan digit int dengan uderscore')\n",
    "print(2_000_000)\n",
    "print('\\nfloat dipisahkan dengan titik bukan koma')"
   ]
  },
  {
   "cell_type": "markdown",
   "metadata": {
    "id": "PE1oSCNkAk3o"
   },
   "source": [
    "## Boolean\n",
    "Logika benar salah, 1 bernilai benar (True) dan 0 bernilai salah (False)"
   ]
  },
  {
   "cell_type": "code",
   "execution_count": 35,
   "metadata": {
    "colab": {
     "base_uri": "https://localhost:8080/"
    },
    "executionInfo": {
     "elapsed": 13,
     "status": "ok",
     "timestamp": 1759913378139,
     "user": {
      "displayName": "Wildanu Rafif",
      "userId": "11454752126410124182"
     },
     "user_tz": -420
    },
    "id": "NkWxm06R_aE2",
    "outputId": "7f7b6f27-e105-415c-9b04-c8e01f2fcc03"
   },
   "outputs": [
    {
     "name": "stdout",
     "output_type": "stream",
     "text": [
      "True\n",
      "False\n",
      "True\n",
      "False\n"
     ]
    }
   ],
   "source": [
    "print(True)\n",
    "print(False)\n",
    "\n",
    "print(4>2)\n",
    "print(3>4)"
   ]
  },
  {
   "cell_type": "markdown",
   "metadata": {
    "id": "DxSowDDpA1n3"
   },
   "source": [
    "## Operator Aritmatika\n",
    "| Operator | Arti                                                                                          | Contoh                  |\n",
    "|----------|--------------------------------------------------------------------------------------------------|--------------------------|\n",
    "| +        | Penambahan                                                                   | x + y                 |\n",
    "| -        | Pengurangan                                              | x - y                  |\n",
    "| *        | Perkalian                                                                            | x * y                    |\n",
    "| /        | Pembagian                                 | x / y                    |\n",
    "| %        | Modulo - Sisa Pembagian                                 | x % y (sisa pembagian of x/y) |\n",
    "| //       | Pembagian dan dibulatkan ke bawah | x // y                   |\n",
    "| **       | Eksponen - Pangkat                                             | x**y (x pangkat y)  |\n",
    "\n",
    "| Prioritas| Operator |        |\n",
    "|----------|----------|--------|\n",
    "| 1        | +, -     | unary  |\n",
    "| 2        | **       |        |\n",
    "| 3        | *,/,//,% |        |\n",
    "| 4        | +, -     | binary |"
   ]
  },
  {
   "cell_type": "code",
   "execution_count": 37,
   "metadata": {
    "colab": {
     "base_uri": "https://localhost:8080/"
    },
    "executionInfo": {
     "elapsed": 9,
     "status": "ok",
     "timestamp": 1759913480677,
     "user": {
      "displayName": "Wildanu Rafif",
      "userId": "11454752126410124182"
     },
     "user_tz": -420
    },
    "id": "3H0PKscrA-on",
    "outputId": "2763b564-9c05-461e-bf0e-fa557e468e1e"
   },
   "outputs": [
    {
     "name": "stdout",
     "output_type": "stream",
     "text": [
      "8\n",
      "8.0\n",
      "8.0\n",
      "1.2311444133449163\n"
     ]
    }
   ],
   "source": [
    "print(2 ** 3)\n",
    "print(2 ** 3.)\n",
    "print(2. ** 3.)\n",
    "print(2. ** .3)"
   ]
  },
  {
   "cell_type": "code",
   "execution_count": 39,
   "metadata": {
    "colab": {
     "base_uri": "https://localhost:8080/"
    },
    "executionInfo": {
     "elapsed": 42,
     "status": "ok",
     "timestamp": 1759913698060,
     "user": {
      "displayName": "Wildanu Rafif",
      "userId": "11454752126410124182"
     },
     "user_tz": -420
    },
    "id": "tbLLrpn7B7XY",
    "outputId": "a8f65bf1-309f-4099-f848-67c3177c0aee"
   },
   "outputs": [
    {
     "data": {
      "text/plain": [
       "17"
      ]
     },
     "execution_count": 39,
     "metadata": {},
     "output_type": "execute_result"
    }
   ],
   "source": [
    "2 + 3 *5"
   ]
  },
  {
   "cell_type": "code",
   "execution_count": 40,
   "metadata": {
    "colab": {
     "base_uri": "https://localhost:8080/"
    },
    "executionInfo": {
     "elapsed": 8,
     "status": "ok",
     "timestamp": 1759913705361,
     "user": {
      "displayName": "Wildanu Rafif",
      "userId": "11454752126410124182"
     },
     "user_tz": -420
    },
    "id": "p_xv0ewsB-HU",
    "outputId": "6f2cc820-311b-4bf6-e7e2-acf026f4f01a"
   },
   "outputs": [
    {
     "name": "stdout",
     "output_type": "stream",
     "text": [
      "1\n",
      "3\n",
      "1\n",
      "256\n",
      "4\n",
      "256\n"
     ]
    }
   ],
   "source": [
    "print(9 % 6 % 2)\n",
    "print(9 % 6)\n",
    "print(3 % 2)\n",
    "\n",
    "print(2 ** 2 ** 3)\n",
    "print(2 ** 2)\n",
    "print(2 ** 8)"
   ]
  },
  {
   "cell_type": "code",
   "execution_count": 41,
   "metadata": {
    "colab": {
     "base_uri": "https://localhost:8080/"
    },
    "executionInfo": {
     "elapsed": 24,
     "status": "ok",
     "timestamp": 1759913712684,
     "user": {
      "displayName": "Wildanu Rafif",
      "userId": "11454752126410124182"
     },
     "user_tz": -420
    },
    "id": "5kR0vj7iB_55",
    "outputId": "1e01f5d0-f7bc-4390-f84e-4df2829a28dc"
   },
   "outputs": [
    {
     "name": "stdout",
     "output_type": "stream",
     "text": [
      "10.0\n"
     ]
    }
   ],
   "source": [
    "print((5 * ((25 % 13)+100) / (2 * 13)) // 2)"
   ]
  },
  {
   "cell_type": "markdown",
   "metadata": {
    "id": "IYhnOv7pCEqE"
   },
   "source": [
    "## Variabel"
   ]
  },
  {
   "cell_type": "code",
   "execution_count": 42,
   "metadata": {
    "colab": {
     "base_uri": "https://localhost:8080/"
    },
    "executionInfo": {
     "elapsed": 40,
     "status": "ok",
     "timestamp": 1759913776552,
     "user": {
      "displayName": "Wildanu Rafif",
      "userId": "11454752126410124182"
     },
     "user_tz": -420
    },
    "id": "iOV4kF2BCBsG",
    "outputId": "69d128d3-8901-498f-bfa9-590b8c6b0477"
   },
   "outputs": [
    {
     "name": "stdout",
     "output_type": "stream",
     "text": [
      "1\n"
     ]
    }
   ],
   "source": [
    "var = 1\n",
    "print(var)"
   ]
  },
  {
   "cell_type": "markdown",
   "metadata": {
    "id": "Mf-goazwCZuq"
   },
   "source": [
    "Tulis rumus ini dalam kode program:<br/> $c=\\sqrt{a^2+b^2}$"
   ]
  },
  {
   "cell_type": "code",
   "execution_count": 44,
   "metadata": {
    "colab": {
     "base_uri": "https://localhost:8080/"
    },
    "executionInfo": {
     "elapsed": 11,
     "status": "ok",
     "timestamp": 1759913804157,
     "user": {
      "displayName": "Wildanu Rafif",
      "userId": "11454752126410124182"
     },
     "user_tz": -420
    },
    "id": "tj7u_82tCRRi",
    "outputId": "768e0c52-af77-42f9-e80f-026f758131d3"
   },
   "outputs": [
    {
     "name": "stdout",
     "output_type": "stream",
     "text": [
      "c =  3.605551275463989\n"
     ]
    }
   ],
   "source": [
    "a=2.\n",
    "b=3.\n",
    "c=(a**2 + b**2) ** 0.5\n",
    "print('c = ', c)"
   ]
  },
  {
   "cell_type": "markdown",
   "metadata": {
    "id": "5nAJ8g0-CwXo"
   },
   "source": [
    "## Exercise"
   ]
  },
  {
   "cell_type": "markdown",
   "metadata": {},
   "source": [
    "Apa outputnya?\n",
    "```python\n",
    "var = 2\n",
    "var = 3\n",
    "print(var)"
   ]
  },
  {
   "cell_type": "code",
   "execution_count": 45,
   "metadata": {
    "colab": {
     "base_uri": "https://localhost:8080/"
    },
    "executionInfo": {
     "elapsed": 18,
     "status": "ok",
     "timestamp": 1759913954456,
     "user": {
      "displayName": "Wildanu Rafif",
      "userId": "11454752126410124182"
     },
     "user_tz": -420
    },
    "id": "ottyfHhkCRis",
    "outputId": "611a6a67-f76b-4b5e-d55d-5ce3cc113c96"
   },
   "outputs": [
    {
     "name": "stdout",
     "output_type": "stream",
     "text": [
      "3\n"
     ]
    }
   ],
   "source": [
    "var = 2\n",
    "var = 3\n",
    "\n",
    "print(var)"
   ]
  },
  {
   "cell_type": "markdown",
   "metadata": {},
   "source": [
    "Nama variabel mana yang ilegal?\n",
    "```python\n",
    "my_var\n",
    "m\n",
    "101\n",
    "averylongvariablename\n",
    "m101\n",
    "m 101\n",
    "Del\n",
    "del\n",
    "```"
   ]
  },
  {
   "cell_type": "code",
   "execution_count": null,
   "metadata": {
    "colab": {
     "base_uri": "https://localhost:8080/"
    },
    "executionInfo": {
     "elapsed": 23,
     "status": "ok",
     "timestamp": 1759914164271,
     "user": {
      "displayName": "Wildanu Rafif",
      "userId": "11454752126410124182"
     },
     "user_tz": -420
    },
    "id": "2VqY1r4FC8tj",
    "outputId": "fb81992b-ea4f-454c-dc4a-a0ff48158aef"
   },
   "outputs": [
    {
     "name": "stdout",
     "output_type": "stream",
     "text": [
      "my_var, m, averylongvariablename, m101, Del\n"
     ]
    }
   ],
   "source": [
    "print('my_var', 'm', 'averylongvariablename', 'm101', 'Del', sep=\", \")"
   ]
  },
  {
   "cell_type": "markdown",
   "metadata": {},
   "source": [
    "Apa Outputnya?\n",
    "```python\n",
    "a = '1'\n",
    "b = \"1\"\n",
    "print(a + b)\n",
    "```"
   ]
  },
  {
   "cell_type": "code",
   "execution_count": 47,
   "metadata": {
    "colab": {
     "base_uri": "https://localhost:8080/"
    },
    "executionInfo": {
     "elapsed": 17,
     "status": "ok",
     "timestamp": 1759914185661,
     "user": {
      "displayName": "Wildanu Rafif",
      "userId": "11454752126410124182"
     },
     "user_tz": -420
    },
    "id": "66iXpsxQDv78",
    "outputId": "eb5767a8-6622-4268-ed4d-8276ef22b1ec"
   },
   "outputs": [
    {
     "name": "stdout",
     "output_type": "stream",
     "text": [
      "11\n"
     ]
    }
   ],
   "source": [
    "a = '1'\n",
    "b = \"1\"\n",
    "print(a+b)"
   ]
  },
  {
   "cell_type": "markdown",
   "metadata": {},
   "source": [
    "Apa outputnya?\n",
    "\n",
    "```python\n",
    "a = 6\n",
    "b = 3\n",
    "a /= 2 * b\n",
    "print(a)\n",
    "```"
   ]
  },
  {
   "cell_type": "code",
   "execution_count": 48,
   "metadata": {
    "colab": {
     "base_uri": "https://localhost:8080/"
    },
    "executionInfo": {
     "elapsed": 18,
     "status": "ok",
     "timestamp": 1759914227988,
     "user": {
      "displayName": "Wildanu Rafif",
      "userId": "11454752126410124182"
     },
     "user_tz": -420
    },
    "id": "hVqOLiATD1Jx",
    "outputId": "9bf4c6bc-2c6f-44e3-ad89-38ea7b252765"
   },
   "outputs": [
    {
     "name": "stdout",
     "output_type": "stream",
     "text": [
      "1.0\n"
     ]
    }
   ],
   "source": [
    "a = 6\n",
    "b = 3\n",
    "a /= 2 * b\n",
    "\n",
    "print(a)"
   ]
  },
  {
   "cell_type": "markdown",
   "metadata": {
    "id": "EpFZlx9GEJ-E"
   },
   "source": [
    "## Input"
   ]
  },
  {
   "cell_type": "code",
   "execution_count": 49,
   "metadata": {
    "colab": {
     "base_uri": "https://localhost:8080/"
    },
    "executionInfo": {
     "elapsed": 4240,
     "status": "ok",
     "timestamp": 1759914359501,
     "user": {
      "displayName": "Wildanu Rafif",
      "userId": "11454752126410124182"
     },
     "user_tz": -420
    },
    "id": "bsPrHS5QD_fu",
    "outputId": "67d26c9d-8561-4452-bf22-7902c1f42903"
   },
   "outputs": [
    {
     "name": "stdout",
     "output_type": "stream",
     "text": [
      "Siapa Namamu: \n",
      "Willy\n",
      "Halo Willy\n"
     ]
    }
   ],
   "source": [
    "print('Siapa Namamu: ')\n",
    "sesuatu = input()\n",
    "print('Halo', sesuatu)"
   ]
  },
  {
   "cell_type": "code",
   "execution_count": 50,
   "metadata": {
    "colab": {
     "base_uri": "https://localhost:8080/"
    },
    "executionInfo": {
     "elapsed": 3098,
     "status": "ok",
     "timestamp": 1759914494415,
     "user": {
      "displayName": "Wildanu Rafif",
      "userId": "11454752126410124182"
     },
     "user_tz": -420
    },
    "id": "864Cr4InEekc",
    "outputId": "14a96b5c-49ec-4006-ca89-dc3f1f6fc558"
   },
   "outputs": [
    {
     "name": "stdout",
     "output_type": "stream",
     "text": [
      "Masukan Angka : 10\n",
      "Pangkat duanya adalah  100.0\n"
     ]
    }
   ],
   "source": [
    "angka = float(input('Masukan Angka : '))\n",
    "print('Pangkat duanya adalah ', angka**2)"
   ]
  },
  {
   "cell_type": "markdown",
   "metadata": {
    "id": "tXjLJ7xGE0Ry"
   },
   "source": [
    "Latihan simple input output"
   ]
  },
  {
   "cell_type": "code",
   "execution_count": 51,
   "metadata": {
    "colab": {
     "base_uri": "https://localhost:8080/"
    },
    "executionInfo": {
     "elapsed": 9968,
     "status": "ok",
     "timestamp": 1759914606446,
     "user": {
      "displayName": "Wildanu Rafif",
      "userId": "11454752126410124182"
     },
     "user_tz": -420
    },
    "id": "LfWDiB3tE4bp",
    "outputId": "659927f8-9c15-4272-a6ec-ea2bc2574aa6"
   },
   "outputs": [
    {
     "name": "stdout",
     "output_type": "stream",
     "text": [
      "Masukkan nilai a dalam float:\n",
      "7.4\n",
      "Masukkan nilai b dalam float:\n",
      "2.3\n"
     ]
    }
   ],
   "source": [
    "print('Masukkan nilai a dalam float:')\n",
    "a = float(input())\n",
    "print('Masukkan nilai b dalam float:')\n",
    "b = float(input())"
   ]
  },
  {
   "cell_type": "code",
   "execution_count": 52,
   "metadata": {
    "colab": {
     "base_uri": "https://localhost:8080/"
    },
    "executionInfo": {
     "elapsed": 21,
     "status": "ok",
     "timestamp": 1759914608295,
     "user": {
      "displayName": "Wildanu Rafif",
      "userId": "11454752126410124182"
     },
     "user_tz": -420
    },
    "id": "ndESPIAaFUco",
    "outputId": "49c0a463-e2fe-4b06-e3b3-d3d48154b0b7"
   },
   "outputs": [
    {
     "name": "stdout",
     "output_type": "stream",
     "text": [
      "a + b =  9.7\n",
      "a - b =  5.1000000000000005\n",
      "a * b =  17.02\n",
      "a / b =  3.2173913043478266\n"
     ]
    }
   ],
   "source": [
    "print('a + b = ', a+b)\n",
    "print('a - b = ', a-b)\n",
    "print('a * b = ', a*b)\n",
    "print('a / b = ', a/b)"
   ]
  },
  {
   "cell_type": "markdown",
   "metadata": {
    "id": "zWRTupf8GLpQ"
   },
   "source": [
    "## Mutable dan Immutable\n",
    "Mutable: List, Dictionary\n",
    "\n",
    "Immutable: String, Bilang dan Tuple"
   ]
  },
  {
   "cell_type": "code",
   "execution_count": 53,
   "metadata": {
    "colab": {
     "base_uri": "https://localhost:8080/"
    },
    "executionInfo": {
     "elapsed": 37,
     "status": "ok",
     "timestamp": 1759914908051,
     "user": {
      "displayName": "Wildanu Rafif",
      "userId": "11454752126410124182"
     },
     "user_tz": -420
    },
    "id": "VmAN5GKBGh_h",
    "outputId": "0d922d31-3fed-4037-c8bf-d2c093fbb161"
   },
   "outputs": [
    {
     "name": "stdout",
     "output_type": "stream",
     "text": [
      "20\n",
      "11642696\n"
     ]
    }
   ],
   "source": [
    "a=20\n",
    "print(a)\n",
    "print(id(a))"
   ]
  },
  {
   "cell_type": "code",
   "execution_count": 54,
   "metadata": {
    "colab": {
     "base_uri": "https://localhost:8080/"
    },
    "executionInfo": {
     "elapsed": 12,
     "status": "ok",
     "timestamp": 1759914913478,
     "user": {
      "displayName": "Wildanu Rafif",
      "userId": "11454752126410124182"
     },
     "user_tz": -420
    },
    "id": "ZS1B7O1GGlhK",
    "outputId": "cc107e9e-e212-4e0c-d9c0-7d2e04f71a55"
   },
   "outputs": [
    {
     "name": "stdout",
     "output_type": "stream",
     "text": [
      "30\n",
      "11643016\n"
     ]
    }
   ],
   "source": [
    "a=30\n",
    "print(a)\n",
    "print(id(a))"
   ]
  },
  {
   "cell_type": "code",
   "execution_count": 55,
   "metadata": {
    "colab": {
     "base_uri": "https://localhost:8080/"
    },
    "executionInfo": {
     "elapsed": 9,
     "status": "ok",
     "timestamp": 1759914926275,
     "user": {
      "displayName": "Wildanu Rafif",
      "userId": "11454752126410124182"
     },
     "user_tz": -420
    },
    "id": "vJD-NA3aGm2o",
    "outputId": "5f9aafed-4bbb-4092-9acc-409c957267a0"
   },
   "outputs": [
    {
     "name": "stdout",
     "output_type": "stream",
     "text": [
      "[1, 2, 3, 4]\n",
      "<class 'list'>\n",
      "139038630489600\n"
     ]
    }
   ],
   "source": [
    "a=[1,2,3,4]\n",
    "print(a)\n",
    "print(type(a))\n",
    "print(id(a))"
   ]
  },
  {
   "cell_type": "code",
   "execution_count": 56,
   "metadata": {
    "colab": {
     "base_uri": "https://localhost:8080/"
    },
    "executionInfo": {
     "elapsed": 18,
     "status": "ok",
     "timestamp": 1759914936128,
     "user": {
      "displayName": "Wildanu Rafif",
      "userId": "11454752126410124182"
     },
     "user_tz": -420
    },
    "id": "r3ezsapTGp-l",
    "outputId": "74c5124a-b881-494d-b413-94512396a1a1"
   },
   "outputs": [
    {
     "name": "stdout",
     "output_type": "stream",
     "text": [
      "[0, 2, 3, 4]\n",
      "139038630489600\n"
     ]
    }
   ],
   "source": [
    "a[0]=0\n",
    "print(a)\n",
    "print(id(a))"
   ]
  },
  {
   "cell_type": "markdown",
   "metadata": {
    "id": "ZmvpUZndHEzH"
   },
   "source": [
    "## Latihan Q&A"
   ]
  },
  {
   "cell_type": "markdown",
   "metadata": {
    "id": "cJ0-g8S1HgHW"
   },
   "source": [
    "Gunakan operator relasional untuk mendeteksi nilai integer < 100 atau >= 100\n",
    "\n",
    "Test Data\n",
    "\n",
    "Sample input: 55\n",
    "\n",
    "`Expected output: False`\n",
    "\n",
    "Sample input: 99\n",
    "\n",
    "`Expected output: False`\n",
    "\n",
    "Sample input: 100\n",
    "\n",
    "`Expected output: True`\n",
    "\n",
    "Sample input: 101\n",
    "\n",
    "`Expected output: True`\n",
    "\n",
    "Sample input: -5\n",
    "\n",
    "`Expected output: False`\n",
    "\n",
    "Sample input: +123\n",
    "\n",
    "`Expected output: True`"
   ]
  },
  {
   "cell_type": "code",
   "execution_count": 60,
   "metadata": {
    "colab": {
     "base_uri": "https://localhost:8080/"
    },
    "executionInfo": {
     "elapsed": 3154,
     "status": "ok",
     "timestamp": 1759915204280,
     "user": {
      "displayName": "Wildanu Rafif",
      "userId": "11454752126410124182"
     },
     "user_tz": -420
    },
    "id": "OiCPe7FRHiyZ",
    "outputId": "9e5af7a6-e606-4ef9-d3b7-ff3bfa4ce066"
   },
   "outputs": [
    {
     "name": "stdout",
     "output_type": "stream",
     "text": [
      "Sample input: +123\n",
      "Expected output:  True\n"
     ]
    }
   ],
   "source": [
    "a=int(input('Sample input: '))\n",
    "print('Expected output: ', a>=100)"
   ]
  },
  {
   "cell_type": "markdown",
   "metadata": {
    "id": "nfDyGAW0H_l7"
   },
   "source": [
    "## Logika\n"
   ]
  },
  {
   "cell_type": "markdown",
   "metadata": {
    "id": "TEp4B8wHIe0G"
   },
   "source": [
    "### If satu kondisi\n",
    "Bentuk umum penggunaan perintah if untuk satu kasus dalam Python adalah :\n",
    "\n",
    "```python\n",
    "if kondisi:\n",
    "    statement1\n",
    "    statement2"
   ]
  },
  {
   "cell_type": "code",
   "execution_count": 63,
   "metadata": {
    "colab": {
     "base_uri": "https://localhost:8080/"
    },
    "executionInfo": {
     "elapsed": 61,
     "status": "ok",
     "timestamp": 1759915509055,
     "user": {
      "displayName": "Wildanu Rafif",
      "userId": "11454752126410124182"
     },
     "user_tz": -420
    },
    "id": "EURragLwITaw",
    "outputId": "009ee8e0-8ee1-4488-87ad-bc1d0611d9c8"
   },
   "outputs": [
    {
     "name": "stdout",
     "output_type": "stream",
     "text": [
      "a sama dengan b\n"
     ]
    }
   ],
   "source": [
    "a = 5\n",
    "b = 5\n",
    "\n",
    "if a==b:\n",
    "    print('a sama dengan b')"
   ]
  },
  {
   "cell_type": "markdown",
   "metadata": {
    "id": "KmLDwNGAI70W"
   },
   "source": [
    "### If dua kondisi\n",
    "Untuk pemilihan yang mengandung dua kasus, bentuk umum yang digunakan adalah :\n",
    "\n",
    "```python\n",
    "if kondisi :\n",
    "    statement1\n",
    "    statement2\n",
    "    ...\n",
    "else\n",
    "    statement_alternatif1\n",
    "    statement_alternatif2\n",
    "    ...\n",
    "```"
   ]
  },
  {
   "cell_type": "code",
   "execution_count": 64,
   "metadata": {
    "colab": {
     "base_uri": "https://localhost:8080/"
    },
    "executionInfo": {
     "elapsed": 49,
     "status": "ok",
     "timestamp": 1759915558917,
     "user": {
      "displayName": "Wildanu Rafif",
      "userId": "11454752126410124182"
     },
     "user_tz": -420
    },
    "id": "l5uuEqIHIWLt",
    "outputId": "4bfc2336-87a5-47ba-8122-adecd1bcfc65"
   },
   "outputs": [
    {
     "name": "stdout",
     "output_type": "stream",
     "text": [
      "Gagal\n"
     ]
    }
   ],
   "source": [
    "a = 5\n",
    "b = 6\n",
    "\n",
    "if a==b:\n",
    "    print('oke')\n",
    "    print('berhasil')\n",
    "else:\n",
    "    print('Gagal')"
   ]
  },
  {
   "cell_type": "markdown",
   "metadata": {
    "id": "IPZhtCrBJGjx"
   },
   "source": [
    "Latihan\n",
    "\n",
    "Memasukan bilangan bulat dan mendeteksi bilangan tersebut genap / ganjil."
   ]
  },
  {
   "cell_type": "code",
   "execution_count": 65,
   "metadata": {
    "colab": {
     "base_uri": "https://localhost:8080/"
    },
    "executionInfo": {
     "elapsed": 2747,
     "status": "ok",
     "timestamp": 1759915677076,
     "user": {
      "displayName": "Wildanu Rafif",
      "userId": "11454752126410124182"
     },
     "user_tz": -420
    },
    "id": "ayj7qZUTJEa0",
    "outputId": "bc77bc18-4f5e-4592-8f6f-e808671a9fc8"
   },
   "outputs": [
    {
     "name": "stdout",
     "output_type": "stream",
     "text": [
      "Masukan bilangan bulat: 8\n",
      "genap\n"
     ]
    }
   ],
   "source": [
    "bil = int(input('Masukan bilangan bulat: '))\n",
    "\n",
    "if(bil%2 == 0):\n",
    "    print('genap')\n",
    "else:\n",
    "    print('ganjil')"
   ]
  },
  {
   "cell_type": "markdown",
   "metadata": {
    "id": "2nsXnSAkJks9"
   },
   "source": [
    "### If banyak kondisi\n",
    "Struktur pemilihan jenis ini merupakan bentuk yang paling kompleks jika dibandingkan dengan kedua jenis yang sudah di bahas diatas. Dalam struktur ini, ada beberapa kondisi yang harus diperiksa oleh program. Bentuk umum penggunaan perintah if untuk tiga kasus atau lebih adalah :\n",
    "\n",
    "```python\n",
    "if kondisi1:\n",
    "    statement1a\n",
    "    statement1b\n",
    "    ...\n",
    "elif kondisi2:\n",
    "    statement2a\n",
    "    statement2b\n",
    "    ...\n",
    "else:\n",
    "    statement_alternatif1\n",
    "    statement_alternatif2\n",
    "    ..."
   ]
  },
  {
   "cell_type": "markdown",
   "metadata": {
    "id": "soeF3vUSJ2M1"
   },
   "source": [
    "Latihan 2\n",
    "- Jika x>0 dan y>0 maka titik akan berada pada Kuadran I\n",
    " - Jika x<0 dan y>0 maka titik akan berapa pada Kuadran II\n",
    " - Jika x<0 dan y<0 maka titik akan berada pada Kuadran III\n",
    " - JIka x>0 dan y<0 maka titik akan berada pada Kuadran IV\n",
    " - Jika keepat kondisi ini tidak dapat dipenuhi, maka titik tidak termasuk pada kuadran manapun"
   ]
  },
  {
   "cell_type": "code",
   "execution_count": 67,
   "metadata": {
    "colab": {
     "base_uri": "https://localhost:8080/"
    },
    "executionInfo": {
     "elapsed": 6247,
     "status": "ok",
     "timestamp": 1759915834700,
     "user": {
      "displayName": "Wildanu Rafif",
      "userId": "11454752126410124182"
     },
     "user_tz": -420
    },
    "id": "qeiqSfRLJgmW",
    "outputId": "66b9c00c-d8be-4a50-b731-932c174f1a64"
   },
   "outputs": [
    {
     "name": "stdout",
     "output_type": "stream",
     "text": [
      "Masukan nilai koordinat\n",
      "Nilai x: 7\n",
      "Nilai y: 13\n",
      "Koordinat (7,13) berada pada Kuadran I\n"
     ]
    }
   ],
   "source": [
    "print('Masukan nilai koordinat')\n",
    "x = int(input('Nilai x: '))\n",
    "y = int(input('Nilai y: '))\n",
    "\n",
    "if x>0 and y>0:\n",
    "    print('Koordinat ('+ str(x) + ','+ str(y) +') berada pada Kuadran I' )\n",
    "elif x<0 and y>0:\n",
    "    print('Koordinat ('+ str(x) + ','+ str(y) +') berada pada Kuadran II' )\n",
    "elif x<0 and y<0:\n",
    "    print('Koordinat ('+ str(x) + ','+ str(y) +') berada pada Kuadran III' )\n",
    "elif x>0 and y<0:\n",
    "    print('Koordinat ('+ str(x) + ','+ str(y) +') berada pada Kuadran IV' )\n",
    "else:\n",
    "    pass"
   ]
  },
  {
   "cell_type": "markdown",
   "metadata": {
    "id": "BCJnLJdWKK46"
   },
   "source": [
    "Latihan 3\n",
    "Mencari bilangan terbesar, dari 3 inputan (a, b dan c)"
   ]
  },
  {
   "cell_type": "code",
   "execution_count": 68,
   "metadata": {
    "colab": {
     "base_uri": "https://localhost:8080/"
    },
    "executionInfo": {
     "elapsed": 6198,
     "status": "ok",
     "timestamp": 1759915930374,
     "user": {
      "displayName": "Wildanu Rafif",
      "userId": "11454752126410124182"
     },
     "user_tz": -420
    },
    "id": "fdG8MN3uKMHC",
    "outputId": "d25cfbc1-3080-4d66-e0d9-8e928e1d4bec"
   },
   "outputs": [
    {
     "name": "stdout",
     "output_type": "stream",
     "text": [
      "First Number : 4\n",
      "Second Number : 7\n",
      "Third Number : 4\n",
      "The largest number is:  7\n"
     ]
    }
   ],
   "source": [
    "num1 = int(input('First Number : '))\n",
    "num2 = int(input('Second Number : '))\n",
    "num3 = int(input('Third Number : '))\n",
    "\n",
    "#set num1 sebagai yang terbesar\n",
    "largestNum = num1\n",
    "\n",
    "#deteksi apakah num2 > num1\n",
    "if num2 > largestNum:\n",
    "    largestNum = num2\n",
    "\n",
    "#deteksi apakah num3 > num2\n",
    "if num3 > largestNum:\n",
    "    largestNum = num3\n",
    "\n",
    "print('The largest number is: ', largestNum)"
   ]
  }
 ],
 "metadata": {
  "colab": {
   "authorship_tag": "ABX9TyPZcuu+lyUsDtP95QrqybHC",
   "collapsed_sections": [
    "495ZhgAF4Xs5",
    "YMoAoUS_5NS4",
    "ivJfahYn-E8w",
    "PE1oSCNkAk3o",
    "DxSowDDpA1n3",
    "IYhnOv7pCEqE",
    "5nAJ8g0-CwXo",
    "EpFZlx9GEJ-E",
    "zWRTupf8GLpQ",
    "ZmvpUZndHEzH"
   ],
   "provenance": []
  },
  "kernelspec": {
   "display_name": "Python 3",
   "name": "python3"
  },
  "language_info": {
   "codemirror_mode": {
    "name": "ipython",
    "version": 3
   },
   "file_extension": ".py",
   "mimetype": "text/x-python",
   "name": "python",
   "nbconvert_exporter": "python",
   "pygments_lexer": "ipython3",
   "version": "3.12.9"
  }
 },
 "nbformat": 4,
 "nbformat_minor": 0
}
