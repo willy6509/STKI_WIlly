{
 "cells": [
  {
   "cell_type": "markdown",
   "id": "4165bf41",
   "metadata": {},
   "source": [
    "# Tokenization\n",
    "memecah string menjadi bagian-bagian yang lebih kecil untuk memudahkan analisis mesin, membantu mesin memahami bahasa manusia"
   ]
  },
  {
   "cell_type": "markdown",
   "id": "4720fee9",
   "metadata": {},
   "source": [
    "## Separating Sentences with Split() Method\n",
    "memisahkan string menggunakan fungsi split() ke dalam sebuah list, dengan spasi sebagai pemisahnya jika pemisah tidak ditentukan"
   ]
  },
  {
   "cell_type": "code",
   "execution_count": 2,
   "id": "3abb5394",
   "metadata": {},
   "outputs": [
    {
     "data": {
      "text/plain": [
       "['belajar', 'memisahkan', 'string', 'dengan', 'fungsi', 'split']"
      ]
     },
     "execution_count": 2,
     "metadata": {},
     "output_type": "execute_result"
    }
   ],
   "source": [
    "kalimat = \"belajar memisahkan string dengan fungsi split\"\n",
    "pisah = kalimat.split()\n",
    "\n",
    "pisah"
   ]
  },
  {
   "cell_type": "markdown",
   "id": "7e4037de",
   "metadata": {},
   "source": [
    "## Tokenizing: Word Tokenizing Using NLTK Module\n",
    "memisahkan string menggunakan library nltk\n",
    "\n",
    "buka komentar\n",
    "\n",
    "_nltk.download('punkt')_\n",
    "\n",
    "_nltk.download('punkt_tab')_\n",
    "\n",
    "jika terjadi error yang dikarenakan punkt dan punkt_tab belum terinstall\n",
    "\n",
    "punkt adalah model bawaan NLTK untuk memecah teks menjadi kalimat dan kata"
   ]
  },
  {
   "cell_type": "code",
   "execution_count": 10,
   "id": "3a233d40",
   "metadata": {},
   "outputs": [
    {
     "data": {
      "text/plain": [
       "['Tokenisasi',\n",
       " 'menggunakan',\n",
       " 'library',\n",
       " 'nltk',\n",
       " 'untuk',\n",
       " 'memisahkan',\n",
       " 'string']"
      ]
     },
     "execution_count": 10,
     "metadata": {},
     "output_type": "execute_result"
    }
   ],
   "source": [
    "import nltk\n",
    "from nltk.tokenize import word_tokenize \n",
    "\n",
    "# nltk.download('punkt')\n",
    "# nltk.download('punkt_tab')\n",
    "\n",
    "kalimat = \"Tokenisasi menggunakan library nltk untuk memisahkan string\"\n",
    "\n",
    "tokens = nltk.tokenize.word_tokenize(kalimat)\n",
    "\n",
    "tokens"
   ]
  },
  {
   "cell_type": "markdown",
   "id": "9b7b7ffe",
   "metadata": {},
   "source": [
    "## Tokenizing with Case Folding\n",
    "Menggabungkan teknik Case Foling dengan Tokenizing."
   ]
  },
  {
   "cell_type": "code",
   "execution_count": 12,
   "id": "9b335ccf",
   "metadata": {},
   "outputs": [
    {
     "data": {
      "text/plain": [
       "['andi',\n",
       " 'kerap',\n",
       " 'melakukan',\n",
       " 'transaksi',\n",
       " 'rutin',\n",
       " 'secara',\n",
       " 'daring',\n",
       " 'atau',\n",
       " 'online']"
      ]
     },
     "execution_count": 12,
     "metadata": {},
     "output_type": "execute_result"
    }
   ],
   "source": [
    "import string\n",
    "from nltk.tokenize import word_tokenize \n",
    "\n",
    " \n",
    "kalimat = \"Andi kerap melakukan transaksi rutin secara daring atau online.\"\n",
    "kalimat = kalimat.translate(str.maketrans('','',string.punctuation)).lower()\n",
    "\n",
    "tokens = nltk.tokenize.word_tokenize(kalimat)\n",
    "\n",
    "tokens"
   ]
  }
 ],
 "metadata": {
  "kernelspec": {
   "display_name": "Python 3",
   "language": "python",
   "name": "python3"
  },
  "language_info": {
   "codemirror_mode": {
    "name": "ipython",
    "version": 3
   },
   "file_extension": ".py",
   "mimetype": "text/x-python",
   "name": "python",
   "nbconvert_exporter": "python",
   "pygments_lexer": "ipython3",
   "version": "3.12.9"
  }
 },
 "nbformat": 4,
 "nbformat_minor": 5
}
