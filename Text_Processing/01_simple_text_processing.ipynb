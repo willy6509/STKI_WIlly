{
 "cells": [
  {
   "cell_type": "markdown",
   "id": "7633fab7",
   "metadata": {},
   "source": [
    "# Cleaning Words <a name=\"cleaning-words\"></a>\n",
    "\n",
    "asumsikan kita sudah mendapat data dari twitter, kemudian kita ingin membersihkan datanya. Maka, kita bisa menggunakan `regular expression`\n",
    "\n",
    "sebagai contoh: "
   ]
  },
  {
   "cell_type": "code",
   "execution_count": 4,
   "id": "9098a939",
   "metadata": {},
   "outputs": [],
   "source": [
    "text = 'RT : @Willy6509 suka menonton Attack on Titans! (進撃の巨人) #aot  setiap kamis pukul 21.00 di http://netflix.com/aot . \\\\n meski tidak suka kekerasan, tapi cukup menikmati ?! #EldiaHarusMenang melawan #Marley  A ...'"
   ]
  },
  {
   "cell_type": "code",
   "execution_count": 6,
   "id": "a6e0b7db",
   "metadata": {},
   "outputs": [
    {
     "name": "stdout",
     "output_type": "stream",
     "text": [
      "RT : @Willy6509 suka menonton Attack on Titans! (進撃の巨人) #aot  setiap kamis pukul 21.00 di http://netflix.com/aot . \\n meski tidak suka kekerasan, tapi cukup menikmati ?! #EldiaHarusMenang melawan #Marley  A ...\n"
     ]
    }
   ],
   "source": [
    "print(text)"
   ]
  },
  {
   "cell_type": "markdown",
   "id": "39830f89",
   "metadata": {},
   "source": [
    "## Import Library"
   ]
  },
  {
   "cell_type": "code",
   "execution_count": 7,
   "id": "ea20bde3",
   "metadata": {},
   "outputs": [],
   "source": [
    "import re\n",
    "import string\n",
    "import time\n",
    "from copy import deepcopy"
   ]
  },
  {
   "cell_type": "markdown",
   "id": "e6f61136",
   "metadata": {},
   "source": [
    "## Bersihin teks dari tab, baris baru, dan backslash"
   ]
  },
  {
   "cell_type": "code",
   "execution_count": 8,
   "id": "2d43f69d",
   "metadata": {},
   "outputs": [
    {
     "name": "stdout",
     "output_type": "stream",
     "text": [
      "RT : @Willy6509 suka menonton Attack on Titans! (進撃の巨人) #aot  setiap kamis pukul 21.00 di http://netflix.com/aot .   meski tidak suka kekerasan, tapi cukup menikmati ?! #EldiaHarusMenang melawan #Marley  A ...\n"
     ]
    }
   ],
   "source": [
    "hasil = text.replace('\\\\t',\" \").replace('\\\\n',\" \").replace('\\\\u',\" \").replace('\\\\',\"\")\n",
    "print(hasil)"
   ]
  },
  {
   "cell_type": "markdown",
   "id": "983d0a3f",
   "metadata": {},
   "source": [
    "## Bersihin teks dari emotikon, huruf asing, sama karakter aneh"
   ]
  },
  {
   "cell_type": "code",
   "execution_count": 9,
   "id": "60d821cf",
   "metadata": {},
   "outputs": [
    {
     "name": "stdout",
     "output_type": "stream",
     "text": [
      "RT : @Willy6509 suka menonton Attack on Titans! (?????) #aot  setiap kamis pukul 21.00 di http://netflix.com/aot .   meski tidak suka kekerasan, tapi cukup menikmati ?! #EldiaHarusMenang melawan #Marley  A ...\n"
     ]
    }
   ],
   "source": [
    "hasil = hasil.encode('ascii', 'replace').decode('ascii')\n",
    "print(hasil)"
   ]
  },
  {
   "cell_type": "markdown",
   "id": "d3efe876",
   "metadata": {},
   "source": [
    "## Bersihin teks dari tagar, link, dan mention"
   ]
  },
  {
   "cell_type": "code",
   "execution_count": 13,
   "id": "afd98a46",
   "metadata": {},
   "outputs": [
    {
     "name": "stderr",
     "output_type": "stream",
     "text": [
      "<>:1: SyntaxWarning: invalid escape sequence '\\w'\n",
      "<>:1: SyntaxWarning: invalid escape sequence '\\w'\n",
      "C:\\Users\\ASUS\\AppData\\Local\\Temp\\ipykernel_15324\\4242807949.py:1: SyntaxWarning: invalid escape sequence '\\w'\n",
      "  hasil = ' '.join(re.sub(\"([@#][A-Za-z0-9]+)|(\\w+:\\/\\/\\S+)\",\" \", hasil).split())\n"
     ]
    }
   ],
   "source": [
    "hasil = ' '.join(re.sub(\"([@#][A-Za-z0-9]+)|(\\w+:\\/\\/\\S+)\",\" \", hasil).split())"
   ]
  },
  {
   "cell_type": "code",
   "execution_count": 14,
   "id": "0b9b5abf",
   "metadata": {},
   "outputs": [
    {
     "data": {
      "text/plain": [
       "'RT : suka menonton Attack on Titans! (?????) setiap kamis pukul 21.00 di . meski tidak suka kekerasan, tapi cukup menikmati ?! melawan A ...'"
      ]
     },
     "execution_count": 14,
     "metadata": {},
     "output_type": "execute_result"
    }
   ],
   "source": [
    "hasil"
   ]
  },
  {
   "cell_type": "markdown",
   "id": "230a6d01",
   "metadata": {},
   "source": [
    "## Hapus RT"
   ]
  },
  {
   "cell_type": "code",
   "execution_count": 15,
   "id": "c9c91356",
   "metadata": {},
   "outputs": [
    {
     "name": "stdout",
     "output_type": "stream",
     "text": [
      "suka menonton Attack on Titans! (?????) setiap kamis pukul 21.00 di . meski tidak suka kekerasan, tapi cukup menikmati ?! melawan A ...\n"
     ]
    }
   ],
   "source": [
    "hasil = hasil.replace('RT : ',\"\")\n",
    "print(hasil)"
   ]
  },
  {
   "cell_type": "markdown",
   "id": "51c1f571",
   "metadata": {},
   "source": [
    "## Jadikan huruf kecil semua"
   ]
  },
  {
   "cell_type": "code",
   "execution_count": 16,
   "id": "ecf9f4a5",
   "metadata": {},
   "outputs": [
    {
     "name": "stdout",
     "output_type": "stream",
     "text": [
      "suka menonton attack on titans! (?????) setiap kamis pukul 21.00 di . meski tidak suka kekerasan, tapi cukup menikmati ?! melawan a ...\n"
     ]
    }
   ],
   "source": [
    "hasil = hasil.lower()\n",
    "print(hasil)"
   ]
  },
  {
   "cell_type": "markdown",
   "id": "da2318b9",
   "metadata": {},
   "source": [
    "## Hapus angka"
   ]
  },
  {
   "cell_type": "code",
   "execution_count": 18,
   "id": "9e0632bf",
   "metadata": {},
   "outputs": [
    {
     "name": "stdout",
     "output_type": "stream",
     "text": [
      "suka menonton attack on titans! (?????) setiap kamis pukul . di . meski tidak suka kekerasan, tapi cukup menikmati ?! melawan a ...\n"
     ]
    }
   ],
   "source": [
    "def remove_number(hasil):\n",
    "    return re.sub(r\"\\d+\", \"\", hasil)\n",
    "hasil = remove_number(hasil)\n",
    "print(hasil)"
   ]
  },
  {
   "cell_type": "markdown",
   "id": "90cecbc4",
   "metadata": {},
   "source": [
    "## Hapus spasi di awal dan akhir teks"
   ]
  },
  {
   "cell_type": "code",
   "execution_count": 19,
   "id": "7f22803c",
   "metadata": {},
   "outputs": [
    {
     "name": "stdout",
     "output_type": "stream",
     "text": [
      "suka menonton attack on titans! (?????) setiap kamis pukul . di . meski tidak suka kekerasan, tapi cukup menikmati ?! melawan a ...\n"
     ]
    }
   ],
   "source": [
    "def remove_whitespace(hasil):\n",
    "    return hasil.strip()\n",
    "hasil = remove_whitespace(hasil)\n",
    "print(hasil)"
   ]
  },
  {
   "cell_type": "code",
   "execution_count": 20,
   "id": "7af22c00",
   "metadata": {},
   "outputs": [
    {
     "data": {
      "text/plain": [
       "'RT : @Willy6509 suka menonton Attack on Titans! (進撃の巨人) #aot  setiap kamis pukul 21.00 di http://netflix.com/aot . \\\\n meski tidak suka kekerasan, tapi cukup menikmati ?! #EldiaHarusMenang melawan #Marley  A ...'"
      ]
     },
     "execution_count": 20,
     "metadata": {},
     "output_type": "execute_result"
    }
   ],
   "source": [
    "text"
   ]
  },
  {
   "cell_type": "code",
   "execution_count": 21,
   "id": "410f0c64",
   "metadata": {},
   "outputs": [
    {
     "data": {
      "text/plain": [
       "'suka menonton attack on titans! (?????) setiap kamis pukul . di . meski tidak suka kekerasan, tapi cukup menikmati ?! melawan a ...'"
      ]
     },
     "execution_count": 21,
     "metadata": {},
     "output_type": "execute_result"
    }
   ],
   "source": [
    "hasil"
   ]
  },
  {
   "cell_type": "markdown",
   "id": "2229a69e",
   "metadata": {},
   "source": [
    "## Hapus karakter tunggal"
   ]
  },
  {
   "cell_type": "code",
   "execution_count": 23,
   "id": "2ab5cd02",
   "metadata": {},
   "outputs": [
    {
     "name": "stdout",
     "output_type": "stream",
     "text": [
      "suka menonton attack on titans! (?????) setiap kamis pukul . di . meski tidak suka kekerasan, tapi cukup menikmati ?! melawan  ...\n"
     ]
    }
   ],
   "source": [
    "def remove_single_char(hasil):\n",
    "    return re.sub(r\"\\b[a-zA-Z]\\b\", \"\", hasil)\n",
    "hasil = remove_single_char(hasil)\n",
    "print(hasil)"
   ]
  },
  {
   "cell_type": "markdown",
   "id": "cae1ae93",
   "metadata": {},
   "source": [
    "## hapus titik yang kepanjangan"
   ]
  },
  {
   "cell_type": "code",
   "execution_count": 24,
   "id": "9c2ca8ae",
   "metadata": {},
   "outputs": [
    {
     "name": "stdout",
     "output_type": "stream",
     "text": [
      "suka menonton attack on titans! (?????) setiap kamis pukul . di . meski tidak suka kekerasan, tapi cukup menikmati ?! melawan   \n"
     ]
    }
   ],
   "source": [
    "def remove_excessive_dot(hasil):\n",
    "    return hasil.replace('...',\" \")\n",
    "hasil = remove_excessive_dot(hasil)\n",
    "print(hasil)"
   ]
  },
  {
   "cell_type": "markdown",
   "id": "2814ce85",
   "metadata": {},
   "source": [
    "## Hapus punctuation"
   ]
  },
  {
   "cell_type": "code",
   "execution_count": 25,
   "id": "8f9b99c9",
   "metadata": {},
   "outputs": [
    {
     "name": "stdout",
     "output_type": "stream",
     "text": [
      "suka menonton attack on titans  setiap kamis pukul  di  meski tidak suka kekerasan tapi cukup menikmati  melawan   \n"
     ]
    }
   ],
   "source": [
    "def remove_punctuation(hasil):\n",
    "    return hasil.translate(str.maketrans(\"\",\"\",string.punctuation))\n",
    "hasil = remove_punctuation(hasil)\n",
    "print(hasil)"
   ]
  },
  {
   "cell_type": "code",
   "execution_count": 26,
   "id": "1d461ee7",
   "metadata": {},
   "outputs": [
    {
     "name": "stdout",
     "output_type": "stream",
     "text": [
      "RT : @Willy6509 suka menonton Attack on Titans! (進撃の巨人) #aot  setiap kamis pukul 21.00 di http://netflix.com/aot . \\n meski tidak suka kekerasan, tapi cukup menikmati ?! #EldiaHarusMenang melawan #Marley  A ... \n",
      "\n",
      "suka menonton attack on titans  setiap kamis pukul  di  meski tidak suka kekerasan tapi cukup menikmati  melawan   \n"
     ]
    }
   ],
   "source": [
    "print(text,\"\\n\")\n",
    "print(hasil)"
   ]
  },
  {
   "cell_type": "markdown",
   "id": "fdf73bec",
   "metadata": {},
   "source": [
    "## hapus spasi yang berlebihan"
   ]
  },
  {
   "cell_type": "code",
   "execution_count": 27,
   "id": "fe71e54e",
   "metadata": {},
   "outputs": [],
   "source": [
    "document = \" saya                     suka olahraga     bikin badan                     lebih sehat    \""
   ]
  },
  {
   "cell_type": "code",
   "execution_count": 28,
   "id": "3a041714",
   "metadata": {},
   "outputs": [],
   "source": [
    "nowhite = ' '.join(document.split())"
   ]
  },
  {
   "cell_type": "code",
   "execution_count": 29,
   "id": "763155d8",
   "metadata": {},
   "outputs": [
    {
     "data": {
      "text/plain": [
       "'saya suka olahraga bikin badan lebih sehat'"
      ]
     },
     "execution_count": 29,
     "metadata": {},
     "output_type": "execute_result"
    }
   ],
   "source": [
    "nowhite"
   ]
  }
 ],
 "metadata": {
  "kernelspec": {
   "display_name": "Python 3",
   "language": "python",
   "name": "python3"
  },
  "language_info": {
   "codemirror_mode": {
    "name": "ipython",
    "version": 3
   },
   "file_extension": ".py",
   "mimetype": "text/x-python",
   "name": "python",
   "nbconvert_exporter": "python",
   "pygments_lexer": "ipython3",
   "version": "3.12.9"
  }
 },
 "nbformat": 4,
 "nbformat_minor": 5
}
