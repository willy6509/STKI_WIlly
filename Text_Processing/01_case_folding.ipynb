{
 "cells": [
  {
   "cell_type": "markdown",
   "id": "da56497f",
   "metadata": {},
   "source": [
    "# Case Folding\n",
    "\n",
    "menyeragamkan data teks"
   ]
  },
  {
   "cell_type": "markdown",
   "id": "f010536a",
   "metadata": {},
   "source": [
    "## Case Folding: Lower\n",
    "merubah teks menjadi huruf kecil semua"
   ]
  },
  {
   "cell_type": "code",
   "execution_count": 1,
   "id": "b7300786",
   "metadata": {},
   "outputs": [
    {
     "name": "stdout",
     "output_type": "stream",
     "text": [
      "berikut ini adalah 5 negara dengan pendidikan terbaik di dunia adalah korea selatan, jepang, singapura, hong kong, dan finlandia.\n"
     ]
    }
   ],
   "source": [
    "kalimat = \"Berikut ini adalah 5 negara dengan pendidikan terbaik di dunia adalah Korea Selatan, Jepang, Singapura, Hong Kong, dan Finlandia.\"\n",
    "lower_case = kalimat.lower()\n",
    "print(lower_case)"
   ]
  },
  {
   "cell_type": "code",
   "execution_count": 2,
   "id": "56ac81c2",
   "metadata": {},
   "outputs": [
    {
     "name": "stdout",
     "output_type": "stream",
     "text": [
      "konferensi internasional yang diadakan di kota ini berjalan kacau. sepertinya setiap perwakilan negara membawa agenda tersembunyi. untuk sedikit mengurangi ketegangan, panitia pertemuan menyajikan hidangan kuliner yang sangat lezat\n"
     ]
    }
   ],
   "source": [
    "kalimat = \"KOnFErensi iNTErNaSiONal yAnG dIADaKaN di kOTa iNi bERjaLAn kACau. sEPeRTInYA sEtIAP pErWakilAN nEgARA meMBAwa aGendA tERSeMbUnYi. uNTuk SEdiKiT meNgURaNgI KeTegANgAn, pANItIa pErTeMuAn mEnyAJikAn hIDanGan kUlinER yAng sAnGAt LeZaT\"\n",
    "lower_case = kalimat.lower()\n",
    "print(lower_case)"
   ]
  },
  {
   "cell_type": "markdown",
   "id": "8a5b4f84",
   "metadata": {},
   "source": [
    "## Case Folding: Removing Number\n",
    "Menghapus karakter angka"
   ]
  },
  {
   "cell_type": "markdown",
   "id": "5b809e47",
   "metadata": {},
   "source": [
    "melakukan import re(regular expression) untuk nyari dan ganti teks berdasarkan pola tertentu, disini kita menggunakan fungsi re.sub()"
   ]
  },
  {
   "cell_type": "code",
   "execution_count": 1,
   "id": "53cf6eae",
   "metadata": {},
   "outputs": [
    {
     "data": {
      "text/plain": [
       "'Berikut ini adalah  negara dengan pendidikan terbaik di dunia adalah Korea Selatan, Jepang, Singapura, Hong Kong, dan Finlandia.'"
      ]
     },
     "execution_count": 1,
     "metadata": {},
     "output_type": "execute_result"
    }
   ],
   "source": [
    "import re \n",
    "kalimat = \"Berikut ini adalah 5 negara dengan pendidikan terbaik di dunia adalah Korea Selatan, Jepang, Singapura, Hong Kong, dan Finlandia.\"\n",
    "\n",
    "hasil = re.sub(r\"\\d+\", \"\", kalimat)\n",
    "hasil"
   ]
  },
  {
   "cell_type": "markdown",
   "id": "2ec96d8c",
   "metadata": {},
   "source": [
    "re.sub(r\"\\d+\", \"\", kalimat)\n",
    "\n",
    "r = supaya Python ngerti \\d itu bagian dari pola pencarian\n",
    "\n",
    "\\d = ini singkatan dari digit, yaitu satu angka (0 sampai 9)\n",
    "\n",
    "r\"\\d+\" = mencari semua deretan angka yang muncul di teks\n",
    "\n",
    "\"\" = diganti dengan kosong\n",
    "\n",
    "kalimat = teks yang mau dihapus"
   ]
  },
  {
   "cell_type": "code",
   "execution_count": 2,
   "id": "bcd7025a",
   "metadata": {},
   "outputs": [
    {
     "data": {
      "text/plain": [
       "'pada tanggal  agustus , sebuah acara rahasia berlangsung di gedung nomor b. ada  peserta yang hadir, di mana  di antaranya berusia di atas  tahun'"
      ]
     },
     "execution_count": 2,
     "metadata": {},
     "output_type": "execute_result"
    }
   ],
   "source": [
    "kalimat = \"pada tanggal 15 agustus 2024, sebuah acara rahasia berlangsung di gedung nomor 732b. ada 453 peserta yang hadir, di mana 291 di antaranya berusia di atas 50 tahun\"\n",
    "\n",
    "hasil = re.sub(r\"\\d+\", \"\", kalimat)\n",
    "hasil"
   ]
  },
  {
   "cell_type": "markdown",
   "id": "77a9ba89",
   "metadata": {},
   "source": [
    "## Case Folding: Removing Punctuation\n",
    "Menghapus karakter tanda baca."
   ]
  },
  {
   "cell_type": "markdown",
   "id": "81615b07",
   "metadata": {},
   "source": [
    "mengimport string dan menggunakan string.punctuation yang menyediakan semua tanda baca"
   ]
  },
  {
   "cell_type": "code",
   "execution_count": null,
   "id": "fdd40792",
   "metadata": {},
   "outputs": [
    {
     "data": {
      "text/plain": [
       "'Ini adalah contoh kalimat dengan tanda baca'"
      ]
     },
     "execution_count": 4,
     "metadata": {},
     "output_type": "execute_result"
    }
   ],
   "source": [
    "import string\n",
    "# print(string.punctuation)\n",
    "kalimat = \"Ini &adalah [contoh] kalimat? {dengan} tanda. baca?!!\"\n",
    "hasil = kalimat.translate(str.maketrans(\"\",\"\",string.punctuation))\n",
    "hasil"
   ]
  },
  {
   "cell_type": "markdown",
   "id": "47f07018",
   "metadata": {},
   "source": [
    "\n",
    "kalimat.translate(...) = Membaca teks di variabel kalimat, lalu menghapus semua tanda baca sesuai daftar tadi.\n",
    "\n",
    "str.maketrans(\"\", \"\", string.punctuation) = membuat semacam “daftar penghapusan”, yang memberitahu Python bahwa semua tanda baca itu harus dihapus\n",
    "\n",
    "daftar tanda baca didapat dari string.punctuation"
   ]
  },
  {
   "cell_type": "code",
   "execution_count": 5,
   "id": "710d1dc4",
   "metadata": {},
   "outputs": [
    {
     "data": {
      "text/plain": [
       "'konferensi internasional yang diadakan di kota ini berjalan kacau sepertinya  setiap perwakilan negara'"
      ]
     },
     "execution_count": 5,
     "metadata": {},
     "output_type": "execute_result"
    }
   ],
   "source": [
    "kalimat =\"konferensi... internasional!!! yang??? diadakan; di kota ini, berjalan kacau; sepertinya!!! -- setiap perwakilan negara\"\n",
    "\n",
    "hasil = kalimat.translate(str.maketrans(\"\", \"\", string.punctuation))\n",
    "hasil"
   ]
  },
  {
   "cell_type": "markdown",
   "id": "38d60ee8",
   "metadata": {},
   "source": [
    "## Case Folding: Removing Whitespace\n",
    "Menghapus karakter kosong."
   ]
  },
  {
   "cell_type": "code",
   "execution_count": 6,
   "id": "03cecc6d",
   "metadata": {},
   "outputs": [
    {
     "data": {
      "text/plain": [
       "'ini kalimat contoh'"
      ]
     },
     "execution_count": 6,
     "metadata": {},
     "output_type": "execute_result"
    }
   ],
   "source": [
    "kalimat = \" \\t    ini kalimat contoh \\t   \\n\"\n",
    "hasil = kalimat.strip()\n",
    "\n",
    "hasil"
   ]
  },
  {
   "cell_type": "markdown",
   "id": "964c8921",
   "metadata": {},
   "source": [
    ".strip() membersihkan sebuah string dari spasi, tab, dan baris baru yang tidak diperlukan di bagian awal dan akhir teks"
   ]
  }
 ],
 "metadata": {
  "kernelspec": {
   "display_name": "Python 3",
   "language": "python",
   "name": "python3"
  },
  "language_info": {
   "codemirror_mode": {
    "name": "ipython",
    "version": 3
   },
   "file_extension": ".py",
   "mimetype": "text/x-python",
   "name": "python",
   "nbconvert_exporter": "python",
   "pygments_lexer": "ipython3",
   "version": "3.12.9"
  }
 },
 "nbformat": 4,
 "nbformat_minor": 5
}
